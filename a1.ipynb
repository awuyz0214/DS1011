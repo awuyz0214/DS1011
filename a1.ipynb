{
 "cells": [
  {
   "cell_type": "markdown",
   "metadata": {},
   "source": [
    "# Preprocess Data"
   ]
  },
  {
   "cell_type": "code",
   "execution_count": 1,
   "metadata": {},
   "outputs": [],
   "source": [
    "import numpy as np\n",
    "import torch\n",
    "import glob2\n",
    "from torch.utils.data import Dataset\n",
    "import random\n",
    "import nltk\n",
    "import string\n",
    "from nltk.util import ngrams\n",
    "from collections import Counter\n",
    "import pickle as pkl"
   ]
  },
  {
   "cell_type": "code",
   "execution_count": 2,
   "metadata": {},
   "outputs": [],
   "source": [
    "def read_data(paths, label):\n",
    "    data=[]\n",
    "    labels=[]\n",
    "    \n",
    "    for path in glob2.glob(paths):\n",
    "        file = open(path, \"r\")\n",
    "        data.append(file.read())\n",
    "        \n",
    "        labels.append(label)\n",
    "        file.close() \n",
    "        \n",
    "    return data, labels"
   ]
  },
  {
   "cell_type": "code",
   "execution_count": 3,
   "metadata": {},
   "outputs": [],
   "source": [
    "local_dir = '/Users/wyz0214/Downloads/1011_a1/aclImdb/'\n",
    "train_data_pos, train_label_pos = read_data(local_dir+\"train/pos/*\", 1)\n",
    "train_data_neg, train_label_neg = read_data(local_dir+\"train/neg/*\", 0)\n",
    "test_data_pos, test_label_pos = read_data(local_dir+\"test/pos/*\", 1)\n",
    "test_data_neg, test_label_neg = read_data(local_dir+\"test/neg/*\", 0)"
   ]
  },
  {
   "cell_type": "code",
   "execution_count": 4,
   "metadata": {},
   "outputs": [],
   "source": [
    "train_data_pos.extend(train_data_neg)\n",
    "train_label_pos.extend(train_label_neg)\n",
    "test_data_pos.extend(test_data_neg)\n",
    "test_label_pos.extend(test_label_neg)"
   ]
  },
  {
   "cell_type": "code",
   "execution_count": 5,
   "metadata": {},
   "outputs": [
    {
     "name": "stdout",
     "output_type": "stream",
     "text": [
      "Train dataset size is 20000\n",
      "Val dataset size is 5000\n",
      "Test dataset size is 25000\n"
     ]
    }
   ],
   "source": [
    "# Split train data into actual train and validation sets\n",
    "\n",
    "train_split = 20000\n",
    "train = list(zip(train_data_pos, train_label_pos))\n",
    "random.seed(2018)\n",
    "random.shuffle(train)\n",
    "\n",
    "train_data, train_targets = zip(*train[:train_split])\n",
    "val_data, val_targets = zip(*train[train_split:])\n",
    "\n",
    "print (\"Train dataset size is {}\".format(len(train_data)))\n",
    "print (\"Val dataset size is {}\".format(len(val_data)))\n",
    "print (\"Test dataset size is {}\".format(len(test_data_pos)))"
   ]
  },
  {
   "cell_type": "code",
   "execution_count": 6,
   "metadata": {},
   "outputs": [
    {
     "data": {
      "text/plain": [
       "(1, 1, 1, 1, 1, 0, 0, 1, 0, 0, 1, 0, 1, 1, 1, 1, 1, 1, 1, 0)"
      ]
     },
     "execution_count": 6,
     "metadata": {},
     "output_type": "execute_result"
    }
   ],
   "source": [
    "train_targets[:20]"
   ]
  },
  {
   "cell_type": "markdown",
   "metadata": {},
   "source": [
    "# Tokenization"
   ]
  },
  {
   "cell_type": "code",
   "execution_count": 54,
   "metadata": {},
   "outputs": [
    {
     "name": "stdout",
     "output_type": "stream",
     "text": [
      "[nltk_data] Downloading package punkt to /Users/wyz0214/nltk_data...\n",
      "[nltk_data]   Unzipping tokenizers/punkt.zip.\n"
     ]
    },
    {
     "data": {
      "text/plain": [
       "True"
      ]
     },
     "execution_count": 54,
     "metadata": {},
     "output_type": "execute_result"
    }
   ],
   "source": [
    "#nltk.download('punkt')"
   ]
  },
  {
   "cell_type": "code",
   "execution_count": 7,
   "metadata": {},
   "outputs": [
    {
     "name": "stdout",
     "output_type": "stream",
     "text": [
      "Counter({('apple', 'is', 'looking'): 1, ('is', 'looking', 'at'): 1, ('looking', 'at', 'buying'): 1, ('at', 'buying', 'u.k.'): 1, ('buying', 'u.k.', 'startup'): 1, ('u.k.', 'startup', 'for'): 1, ('startup', 'for', '1'): 1, ('for', '1', 'billion'): 1})\n"
     ]
    }
   ],
   "source": [
    "# Load English tokenizer, tagger, parser, NER and word vectors\n",
    "tokenizer = nltk.word_tokenize\n",
    "punctuations = string.punctuation\n",
    "\n",
    "# lowercase and remove punctuation\n",
    "def tokenize(sent, n):\n",
    "    tokens = tokenizer(sent)\n",
    "    words = [w.lower() for w in tokens if (w not in punctuations)]\n",
    "    return ngrams(words, n)\n",
    "\n",
    "# Example\n",
    "tokens = tokenize('Apple is looking at buying U.K. startup for $1 billion', 3)\n",
    "print(Counter(tokens))"
   ]
  },
  {
   "cell_type": "code",
   "execution_count": 113,
   "metadata": {},
   "outputs": [
    {
     "name": "stdout",
     "output_type": "stream",
     "text": [
      "Tokenizing val data\n",
      "Tokenizing test data\n",
      "Tokenizing train data\n",
      "Finished!\n"
     ]
    }
   ],
   "source": [
    "# This is the code cell that tokenizes train/val/test datasets\n",
    "# However it takes about 15-20 minutes to run it\n",
    "# For convinience we have provided the preprocessed datasets\n",
    "# Please see the next code cell\n",
    "\n",
    "def tokenize_dataset(dataset, n):\n",
    "    token_dataset = []\n",
    "    # we are keeping track of all tokens in dataset \n",
    "    # in order to create vocabulary later\n",
    "    all_tokens = []\n",
    "    \n",
    "    for sample in dataset:\n",
    "        tokens = Counter(tokenize(sample, n))\n",
    "        token_dataset.append(list(tokens))\n",
    "        all_tokens += list(tokens)\n",
    "\n",
    "    return token_dataset, all_tokens\n",
    "\n",
    "# val set tokens\n",
    "print (\"Tokenizing val data\")\n",
    "val_data_tokens, _ = tokenize_dataset(val_data, ngram)\n",
    "pkl.dump(val_data_tokens, open(str(ngram)+\"val_data_tokens.p\", \"wb\"))\n",
    "\n",
    "# test set tokens\n",
    "print (\"Tokenizing test data\")\n",
    "test_data_tokens, _ = tokenize_dataset(test_data_pos, ngram)\n",
    "pkl.dump(test_data_tokens, open(str(ngram)+\"test_data_tokens.p\", \"wb\"))\n",
    "\n",
    "# train set tokens\n",
    "print (\"Tokenizing train data\")\n",
    "train_data_tokens, all_train_tokens = tokenize_dataset(train_data, ngram)\n",
    "pkl.dump(train_data_tokens, open(str(ngram)+\"train_data_tokens.p\", \"wb\"))\n",
    "pkl.dump(all_train_tokens, open(str(ngram)+\"all_train_tokens.p\", \"wb\"))\n",
    "print ('Finished!')"
   ]
  },
  {
   "cell_type": "markdown",
   "metadata": {},
   "source": [
    "# Parameter settings"
   ]
  },
  {
   "cell_type": "code",
   "execution_count": 114,
   "metadata": {},
   "outputs": [],
   "source": [
    "ngram = 4\n",
    "learning_rate = 0.01\n",
    "num_epochs = 8 # number epoch to train\n",
    "max_vocab_size = 10000\n",
    "emb_dim = 100\n",
    "criterion = torch.nn.CrossEntropyLoss()  "
   ]
  },
  {
   "cell_type": "code",
   "execution_count": 92,
   "metadata": {},
   "outputs": [
    {
     "name": "stdout",
     "output_type": "stream",
     "text": [
      "Train dataset size is 20000\n",
      "Val dataset size is 5000\n",
      "Test dataset size is 25000\n",
      "Total number of tokens in train dataset is 4757870\n"
     ]
    }
   ],
   "source": [
    "# Then, load preprocessed train, val and test datasets\n",
    "train_data_tokens = pkl.load(open(str(ngram)+\"train_data_tokens.p\", \"rb\"))\n",
    "all_train_tokens = pkl.load(open(str(ngram)+\"all_train_tokens.p\", \"rb\"))\n",
    "\n",
    "val_data_tokens = pkl.load(open(str(ngram)+\"val_data_tokens.p\", \"rb\"))\n",
    "test_data_tokens = pkl.load(open(str(ngram)+\"test_data_tokens.p\", \"rb\"))\n",
    "\n",
    "# double checking\n",
    "print (\"Train dataset size is {}\".format(len(train_data_tokens)))\n",
    "print (\"Val dataset size is {}\".format(len(val_data_tokens)))\n",
    "print (\"Test dataset size is {}\".format(len(test_data_tokens)))\n",
    "\n",
    "print (\"Total number of tokens in train dataset is {}\".format(len(all_train_tokens)))"
   ]
  },
  {
   "cell_type": "markdown",
   "metadata": {},
   "source": [
    "Now, we are going to create the vocabulary of most common 10,000 tokens in the training set."
   ]
  },
  {
   "cell_type": "code",
   "execution_count": 115,
   "metadata": {},
   "outputs": [],
   "source": [
    "# save index 0 for unk and 1 for pad\n",
    "PAD_IDX = 0\n",
    "UNK_IDX = 1\n",
    "\n",
    "def build_vocab(all_tokens):\n",
    "    # Returns:\n",
    "    # id2token: list of tokens, where id2token[i] returns token that corresponds to token i\n",
    "    # token2id: dictionary where keys represent tokens and corresponding values represent indices\n",
    "    token_counter = Counter(all_tokens)\n",
    "    vocab, count = zip(*token_counter.most_common(max_vocab_size))\n",
    "    id2token = list(vocab)\n",
    "    token2id = dict(zip(vocab, range(2,2+len(vocab)))) \n",
    "    id2token = ['<pad>', '<unk>'] + id2token\n",
    "    token2id['<pad>'] = PAD_IDX\n",
    "    token2id['<unk>'] = UNK_IDX\n",
    "    return token2id, id2token\n",
    "\n",
    "token2id, id2token = build_vocab(all_train_tokens)"
   ]
  },
  {
   "cell_type": "code",
   "execution_count": 116,
   "metadata": {},
   "outputs": [
    {
     "name": "stdout",
     "output_type": "stream",
     "text": [
      "Token id 3915 ; token ('think', 'this', 'is', 'the')\n",
      "Token ('think', 'this', 'is', 'the'); token id 3915\n"
     ]
    }
   ],
   "source": [
    "# Lets check the dictionary by loading random token from it\n",
    "\n",
    "random_token_id = random.randint(0, len(id2token)-1)\n",
    "random_token = id2token[random_token_id]\n",
    "\n",
    "print (\"Token id {} ; token {}\".format(random_token_id, id2token[random_token_id]))\n",
    "print (\"Token {}; token id {}\".format(random_token, token2id[random_token]))"
   ]
  },
  {
   "cell_type": "code",
   "execution_count": 117,
   "metadata": {},
   "outputs": [
    {
     "name": "stdout",
     "output_type": "stream",
     "text": [
      "Train dataset size is 20000\n",
      "Val dataset size is 5000\n",
      "Test dataset size is 25000\n"
     ]
    }
   ],
   "source": [
    "# convert token to id in the dataset\n",
    "def token2index_dataset(tokens_data):\n",
    "    indices_data = []\n",
    "    for tokens in tokens_data:\n",
    "        index_list = [token2id[token] if token in token2id else UNK_IDX for token in tokens]\n",
    "        indices_data.append(index_list)\n",
    "    return indices_data\n",
    "\n",
    "train_data_indices = token2index_dataset(train_data_tokens)\n",
    "val_data_indices = token2index_dataset(val_data_tokens)\n",
    "test_data_indices = token2index_dataset(test_data_tokens)\n",
    "\n",
    "# double checking\n",
    "print (\"Train dataset size is {}\".format(len(train_data_indices)))\n",
    "print (\"Val dataset size is {}\".format(len(val_data_indices)))\n",
    "print (\"Test dataset size is {}\".format(len(test_data_indices)))"
   ]
  },
  {
   "cell_type": "markdown",
   "metadata": {},
   "source": [
    "Now we are going to create PyTorch DataLoader "
   ]
  },
  {
   "cell_type": "code",
   "execution_count": 118,
   "metadata": {},
   "outputs": [],
   "source": [
    "MAX_SENTENCE_LENGTH = 200\n",
    "\n",
    "class NewsGroupDataset(Dataset):\n",
    "    \"\"\"\n",
    "    Class that represents a train/validation/test dataset that's readable for PyTorch\n",
    "    Note that this class inherits torch.utils.data.Dataset\n",
    "    \"\"\"\n",
    "    \n",
    "    def __init__(self, data_list, target_list):\n",
    "        \"\"\"\n",
    "        @param data_list: list of newsgroup tokens \n",
    "        @param target_list: list of newsgroup targets \n",
    "\n",
    "        \"\"\"\n",
    "        self.data_list = data_list\n",
    "        self.target_list = target_list\n",
    "        assert (len(self.data_list) == len(self.target_list))\n",
    "\n",
    "    def __len__(self):\n",
    "        return len(self.data_list)\n",
    "        \n",
    "    def __getitem__(self, key):\n",
    "        \"\"\"\n",
    "        Triggered when you call dataset[i]\n",
    "        \"\"\"\n",
    "        \n",
    "        token_idx = self.data_list[key][:MAX_SENTENCE_LENGTH]\n",
    "        label = self.target_list[key]\n",
    "        return [token_idx, len(token_idx), label]\n",
    "\n",
    "def newsgroup_collate_func(batch):\n",
    "    \"\"\"\n",
    "    Customized function for DataLoader that dynamically pads the batch so that all \n",
    "    data have the same length\n",
    "    \"\"\"\n",
    "    data_list = []\n",
    "    label_list = []\n",
    "    length_list = []\n",
    "    #print(\"collate batch: \", batch[0][0])\n",
    "    #batch[0][0] = batch[0][0][:MAX_SENTENCE_LENGTH]\n",
    "    for datum in batch:\n",
    "        label_list.append(datum[2])\n",
    "        length_list.append(datum[1])\n",
    "    # padding\n",
    "    for datum in batch:\n",
    "        padded_vec = np.pad(np.array(datum[0]), \n",
    "                                pad_width=((0,MAX_SENTENCE_LENGTH-datum[1])), \n",
    "                                mode=\"constant\", constant_values=0)\n",
    "        data_list.append(padded_vec)\n",
    "    return [torch.from_numpy(np.array(data_list)), torch.LongTensor(length_list), torch.LongTensor(label_list)]\n",
    "\n",
    "# create pytorch dataloader\n",
    "#train_loader = NewsGroupDataset(train_data_indices, train_targets)\n",
    "#val_loader = NewsGroupDataset(val_data_indices, val_targets)\n",
    "#test_loader = NewsGroupDataset(test_data_indices, test_targets)\n",
    "\n",
    "BATCH_SIZE = 32\n",
    "train_dataset = NewsGroupDataset(train_data_indices, train_targets)\n",
    "train_loader = torch.utils.data.DataLoader(dataset=train_dataset, \n",
    "                                           batch_size=BATCH_SIZE,\n",
    "                                           collate_fn=newsgroup_collate_func,\n",
    "                                           shuffle=True)\n",
    "\n",
    "val_dataset = NewsGroupDataset(val_data_indices, val_targets)\n",
    "val_loader = torch.utils.data.DataLoader(dataset=val_dataset, \n",
    "                                           batch_size=BATCH_SIZE,\n",
    "                                           collate_fn=newsgroup_collate_func,\n",
    "                                           shuffle=True)\n",
    "\n",
    "test_dataset = NewsGroupDataset(test_data_indices, test_label_pos)\n",
    "test_loader = torch.utils.data.DataLoader(dataset=test_dataset, \n",
    "                                           batch_size=BATCH_SIZE,\n",
    "                                           collate_fn=newsgroup_collate_func,\n",
    "                                           shuffle=False)\n",
    "\n",
    "#for i, (data, lengths, labels) in enumerate(train_loader):\n",
    "#    print (data)\n",
    "#    print (labels)\n",
    "#    break"
   ]
  },
  {
   "cell_type": "markdown",
   "metadata": {},
   "source": [
    "Here we will define Bag-of-Words model in PyTorch"
   ]
  },
  {
   "cell_type": "code",
   "execution_count": 119,
   "metadata": {},
   "outputs": [],
   "source": [
    "# First import torch related libraries\n",
    "import torch\n",
    "import torch.nn as nn\n",
    "import torch.nn.functional as F\n",
    "\n",
    "class BagOfWords(nn.Module):\n",
    "    \"\"\"\n",
    "    BagOfWords classification model\n",
    "    \"\"\"\n",
    "    def __init__(self, vocab_size, emb_dim):\n",
    "        \"\"\"\n",
    "        @param vocab_size: size of the vocabulary. \n",
    "        @param emb_dim: size of the word embedding\n",
    "        \"\"\"\n",
    "        super(BagOfWords, self).__init__()\n",
    "        self.embed = nn.Embedding(vocab_size, emb_dim, padding_idx=0)\n",
    "        self.linear = nn.Linear(emb_dim,20)\n",
    "    \n",
    "    def forward(self, data, length):\n",
    "        \"\"\"\n",
    "        \n",
    "        @param data: matrix of size (batch_size, max_sentence_length). Each row in data represents a \n",
    "            review that is represented using n-gram index. Note that they are padded to have same length.\n",
    "        @param length: an int tensor of size (batch_size), which represents the non-trivial (excludes padding)\n",
    "            length of each sentences in the data.\n",
    "        \"\"\"\n",
    "        out = self.embed(data)\n",
    "        out = torch.sum(out, dim=1)\n",
    "        out /= length.view(length.size()[0],1).expand_as(out).float()\n",
    "     \n",
    "        # return logits\n",
    "        out = self.linear(out.float())\n",
    "        return out\n",
    "\n",
    "model = BagOfWords(len(id2token), emb_dim)"
   ]
  },
  {
   "cell_type": "code",
   "execution_count": 120,
   "metadata": {},
   "outputs": [],
   "source": [
    "optimizer = torch.optim.Adam(model.parameters(), lr=learning_rate)\n",
    "#optimizer = torch.optim.SGD(model.parameters(), lr = learning_rate, momentum=0.9)"
   ]
  },
  {
   "cell_type": "code",
   "execution_count": 121,
   "metadata": {},
   "outputs": [
    {
     "name": "stdout",
     "output_type": "stream",
     "text": [
      "Epoch: [1/8], Step: [101/625], Validation Acc: 50.06\n",
      "Epoch: [1/8], Step: [201/625], Validation Acc: 59.16\n",
      "Epoch: [1/8], Step: [301/625], Validation Acc: 67.36\n",
      "Epoch: [1/8], Step: [401/625], Validation Acc: 57.84\n",
      "Epoch: [1/8], Step: [501/625], Validation Acc: 54.92\n",
      "Epoch: [1/8], Step: [601/625], Validation Acc: 71.68\n",
      "Epoch: [2/8], Step: [101/625], Validation Acc: 68.16\n",
      "Epoch: [2/8], Step: [201/625], Validation Acc: 70.88\n",
      "Epoch: [2/8], Step: [301/625], Validation Acc: 71.88\n",
      "Epoch: [2/8], Step: [401/625], Validation Acc: 72.56\n",
      "Epoch: [2/8], Step: [501/625], Validation Acc: 72.72\n",
      "Epoch: [2/8], Step: [601/625], Validation Acc: 72.86\n",
      "Epoch: [3/8], Step: [101/625], Validation Acc: 72.76\n",
      "Epoch: [3/8], Step: [201/625], Validation Acc: 72.92\n",
      "Epoch: [3/8], Step: [301/625], Validation Acc: 72.36\n",
      "Epoch: [3/8], Step: [401/625], Validation Acc: 70.0\n",
      "Epoch: [3/8], Step: [501/625], Validation Acc: 72.56\n",
      "Epoch: [3/8], Step: [601/625], Validation Acc: 72.92\n",
      "Epoch: [4/8], Step: [101/625], Validation Acc: 72.5\n",
      "Epoch: [4/8], Step: [201/625], Validation Acc: 72.76\n",
      "Epoch: [4/8], Step: [301/625], Validation Acc: 72.76\n",
      "Epoch: [4/8], Step: [401/625], Validation Acc: 72.48\n",
      "Epoch: [4/8], Step: [501/625], Validation Acc: 71.12\n",
      "Epoch: [4/8], Step: [601/625], Validation Acc: 71.68\n",
      "Epoch: [5/8], Step: [101/625], Validation Acc: 72.64\n",
      "Epoch: [5/8], Step: [201/625], Validation Acc: 72.74\n",
      "Epoch: [5/8], Step: [301/625], Validation Acc: 71.12\n",
      "Epoch: [5/8], Step: [401/625], Validation Acc: 70.32\n",
      "Epoch: [5/8], Step: [501/625], Validation Acc: 71.88\n",
      "Epoch: [5/8], Step: [601/625], Validation Acc: 72.26\n",
      "Epoch: [6/8], Step: [101/625], Validation Acc: 72.62\n",
      "Epoch: [6/8], Step: [201/625], Validation Acc: 71.8\n",
      "Epoch: [6/8], Step: [301/625], Validation Acc: 71.86\n",
      "Epoch: [6/8], Step: [401/625], Validation Acc: 72.44\n",
      "Epoch: [6/8], Step: [501/625], Validation Acc: 72.32\n",
      "Epoch: [6/8], Step: [601/625], Validation Acc: 72.14\n",
      "Epoch: [7/8], Step: [101/625], Validation Acc: 72.08\n",
      "Epoch: [7/8], Step: [201/625], Validation Acc: 72.26\n",
      "Epoch: [7/8], Step: [301/625], Validation Acc: 72.02\n",
      "Epoch: [7/8], Step: [401/625], Validation Acc: 67.66\n",
      "Epoch: [7/8], Step: [501/625], Validation Acc: 71.32\n",
      "Epoch: [7/8], Step: [601/625], Validation Acc: 71.74\n",
      "Epoch: [8/8], Step: [101/625], Validation Acc: 70.5\n",
      "Epoch: [8/8], Step: [201/625], Validation Acc: 71.64\n",
      "Epoch: [8/8], Step: [301/625], Validation Acc: 71.4\n",
      "Epoch: [8/8], Step: [401/625], Validation Acc: 71.9\n",
      "Epoch: [8/8], Step: [501/625], Validation Acc: 71.8\n",
      "Epoch: [8/8], Step: [601/625], Validation Acc: 70.78\n",
      "Finished!!\n"
     ]
    }
   ],
   "source": [
    "# Function for testing the model\n",
    "def test_model(loader, model):\n",
    "    \"\"\"\n",
    "    Help function that tests the model's performance on a dataset\n",
    "    @param: loader - data loader for the dataset to test against\n",
    "    \"\"\"\n",
    "    correct = 0\n",
    "    total = 0\n",
    "    model.eval()\n",
    "    for data, lengths, labels in loader:\n",
    "        data_batch, length_batch, label_batch = data, lengths, labels\n",
    "        outputs = F.softmax(model(data_batch, length_batch), dim=1)\n",
    "        predicted = outputs.max(1, keepdim=True)[1]\n",
    "        \n",
    "        total += labels.size(0)\n",
    "        correct += predicted.eq(labels.view_as(predicted)).sum().item()\n",
    "    return (100 * correct / total)\n",
    "\n",
    "val_acc_lst = []\n",
    "for epoch in range(num_epochs):\n",
    "    #scheduler = torch.optim.lr_scheduler.StepLR(optimizer, step_size=1, gamma=0.7)\n",
    "    for i, (data, lengths, labels) in enumerate(train_loader):\n",
    "        model.train()\n",
    "        data_batch, length_batch, label_batch = data, lengths, labels\n",
    "        optimizer.zero_grad()\n",
    "        outputs = model(data_batch, length_batch)\n",
    "        loss = criterion(outputs, label_batch)\n",
    "        loss.backward()\n",
    "        optimizer.step()\n",
    "        # validate every 100 iterations\n",
    "        if i > 0 and i % 100 == 0:\n",
    "            # validate\n",
    "            val_acc = test_model(val_loader, model)\n",
    "            val_acc_lst.append(val_acc)\n",
    "            print('Epoch: [{}/{}], Step: [{}/{}], Validation Acc: {}'.format( \n",
    "                       epoch+1, num_epochs, i+1, len(train_loader), val_acc))\n",
    "print('Finished!!')"
   ]
  },
  {
   "cell_type": "code",
   "execution_count": 123,
   "metadata": {},
   "outputs": [
    {
     "name": "stdout",
     "output_type": "stream",
     "text": [
      "After training for 8 epochs\n",
      "Val Acc 71.38\n",
      "Test Acc 70.704\n"
     ]
    }
   ],
   "source": [
    "print (\"After training for {} epochs\".format(num_epochs))\n",
    "print (\"Val Acc {}\".format(test_model(val_loader, model)))\n",
    "print (\"Test Acc {}\".format(test_model(test_loader, model)))"
   ]
  },
  {
   "cell_type": "code",
   "execution_count": 124,
   "metadata": {},
   "outputs": [],
   "source": [
    "pkl.dump(val_acc_lst, open(\"4gram_lr001_voc1e4_emb_100_optAdam.p\", \"wb\"))"
   ]
  },
  {
   "cell_type": "code",
   "execution_count": 127,
   "metadata": {},
   "outputs": [],
   "source": [
    "p1 = pkl.load(open('1gram_lr001_voc5e4_emb_100_optSGD.p', \"rb\"))\n",
    "p2 = pkl.load(open('1gram_lr001_voc5e4_emb_100_optAdam.p', \"rb\"))\n",
    "p3 = pkl.load(open('1gram_lr01_voc5e4_emb_100_optAdam.p', \"rb\"))\n",
    "p4 = pkl.load(open('2gram_lr01_voc1e4_emb_100_optSGD.p', \"rb\"))\n",
    "p5 = pkl.load(open('2gram_lr01_voc5e4_emb_120_optAdam.p', \"rb\"))\n",
    "p6 = pkl.load(open('2gram_lr005_voc1e5_emb_150_optAdam.p', \"rb\"))\n",
    "p7 = pkl.load(open('3gram_lr001_voc1e4_emb_50_optSGD.p', \"rb\"))\n",
    "p8 = pkl.load(open('3gram_lr05_voc1e4_emb_100_optAdam.p', \"rb\"))\n",
    "p9 = pkl.load(open('4gram_lr001_voc1e4_emb_100_optAdam.p', \"rb\"))"
   ]
  },
  {
   "cell_type": "code",
   "execution_count": 128,
   "metadata": {},
   "outputs": [],
   "source": [
    "import matplotlib.pyplot as plt"
   ]
  },
  {
   "cell_type": "code",
   "execution_count": 143,
   "metadata": {},
   "outputs": [
    {
     "data": {
      "text/plain": [
       "<matplotlib.legend.Legend at 0x1a2827b198>"
      ]
     },
     "execution_count": 143,
     "metadata": {},
     "output_type": "execute_result"
    },
    {
     "data": {
      "image/png": "[encoded data removed]",
      "text/plain": [
       "<Figure size 432x288 with 1 Axes>"
      ]
     },
     "metadata": {
      "needs_background": "light"
     },
     "output_type": "display_data"
    }
   ],
   "source": [
    "plt.plot(range(48), p1, label = '1-gram, lr=1e-2, voc=5e4, emb=100, SGD')\n",
    "plt.plot(range(48), p2, label = '1-gram, lr=1e-2, voc=5e4, emb=100, Adam')\n",
    "plt.plot(range(48), p3, label = '1-gram, lr=1e-1, voc=5e4, emb=100, Adam')\n",
    "plt.plot(range(48), p4, label = '2-gram, lr=1e-1, voc=1e4, emb=100, SGD')\n",
    "plt.plot(range(48), p5, label = '2-gram, lr=1e-1, voc=5e4, emb=120, Adam')\n",
    "plt.plot(range(48), p6, label = '2-gram, lr=5e-3, voc=1e5, emb=150, Adam')\n",
    "plt.plot(range(48), p7, label = '3-gram, lr=1e-3, voc=1e4, emb=50, SGD')\n",
    "plt.plot(range(48), p8, label = '3-gram, lr=5e-1, voc=1e4, emb=100, Adam')\n",
    "plt.plot(range(48), p9, label = '4-gram, lr=1e-3, voc=1e4, emb=100, Adam')\n",
    "plt.xlabel('Step*100')\n",
    "plt.legend(loc='center left', bbox_to_anchor=(1, 0.5))\n"
   ]
  },
  {
   "cell_type": "code",
   "execution_count": 144,
   "metadata": {},
   "outputs": [
    {
     "data": {
      "text/plain": [
       "73.96"
      ]
     },
     "execution_count": 144,
     "metadata": {},
     "output_type": "execute_result"
    }
   ],
   "source": [
    "p8[-1]"
   ]
  },
  {
   "cell_type": "code",
   "execution_count": null,
   "metadata": {},
   "outputs": [],
   "source": []
  }
 ],
 "metadata": {
  "anaconda-cloud": {},
  "kernelspec": {
   "display_name": "Python 3",
   "language": "python",
   "name": "python3"
  },
  "language_info": {
   "codemirror_mode": {
    "name": "ipython",
    "version": 3
   },
   "file_extension": ".py",
   "mimetype": "text/x-python",
   "name": "python",
   "nbconvert_exporter": "python",
   "pygments_lexer": "ipython3",
   "version": "3.6.6"
  }
 },
 "nbformat": 4,
 "nbformat_minor": 1
}
